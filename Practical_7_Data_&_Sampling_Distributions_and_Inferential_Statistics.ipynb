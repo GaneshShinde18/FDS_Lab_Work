{
 "cells": [
  {
   "cell_type": "code",
   "execution_count": 1,
   "metadata": {},
   "outputs": [],
   "source": [
    "#1. Sampling DistributioN\n",
    "\n",
    "from pathlib import Path\n",
    "import pandas as pd\n",
    "import numpy as np\n",
    "from scipy import stats\n",
    "from sklearn.utils import resample\n",
    "\n",
    "import seaborn as sns\n",
    "import matplotlib.pylab as plt"
   ]
  },
  {
   "cell_type": "code",
   "execution_count": 34,
   "metadata": {},
   "outputs": [],
   "source": [
    "employees_CSV =pd.read_csv('D:\\Python\\employees.csv')"
   ]
  },
  {
   "cell_type": "code",
   "execution_count": 35,
   "metadata": {},
   "outputs": [
    {
     "name": "stdout",
     "output_type": "stream",
     "text": [
      "  2600\n",
      "  2600\n",
      "  4400\n",
      " 13000\n",
      "  6000\n",
      "  6500\n",
      " 10000\n",
      " 12008\n",
      "  8300\n",
      " 24000\n",
      " 17000\n",
      " 17000\n",
      "  9000\n",
      "  6000\n",
      "  4800\n",
      "  4800\n",
      "  4200\n",
      " 12008\n",
      "  9000\n",
      "  8200\n",
      "  7700\n",
      "  7800\n",
      "  6900\n",
      " 11000\n",
      "  3100\n",
      "  2900\n",
      "  2800\n",
      "  2600\n",
      "  2500\n",
      "  8000\n",
      "  8200\n",
      "  7900\n",
      "  6500\n",
      "  5800\n",
      "  3200\n",
      "  2700\n",
      "  2400\n",
      "  2200\n",
      "  3300\n",
      "  2800\n",
      "  2500\n",
      "  2100\n",
      "  3300\n",
      "  2900\n",
      "  2400\n",
      "  2200\n",
      "  3600\n",
      "  3200\n",
      "  2700\n",
      "  2500\n"
     ]
    }
   ],
   "source": [
    "employees_salary=employees_CSV['SALARY']\n",
    "print(employees_salary.to_string(index=False))"
   ]
  },
  {
   "cell_type": "code",
   "execution_count": 36,
   "metadata": {},
   "outputs": [
    {
     "name": "stdout",
     "output_type": "stream",
     "text": [
      "     SALARY  type\n",
      "30   8200.0  Data\n",
      "24   3100.0  Data\n",
      "7   12008.0  Data\n",
      "11  17000.0  Data\n",
      "46   3600.0  Data\n"
     ]
    }
   ],
   "source": [
    "employees_CSV =pd.read_csv('D:\\Python\\employees.csv')\n",
    "sample_data = pd.DataFrame({\n",
    "    'SALARY': employees_salary.sample(50),\n",
    "    'type': 'Data',\n",
    "})\n",
    "\n",
    "sample_mean_05 = pd.DataFrame({\n",
    "    'SALARY': [employees_salary.sample(5).mean() for _ in range(50)],\n",
    "    'type': 'Mean of 5',\n",
    "})\n",
    "\n",
    "sample_mean_20 = pd.DataFrame({\n",
    "    'SALARY': [employees_salary.sample(20).mean() for _ in range(50)],\n",
    "    'type': 'Mean of 20',\n",
    "})\n",
    "\n",
    "results = pd.concat([sample_data, sample_mean_05, sample_mean_20])\n",
    "print(results.head())"
   ]
  },
  {
   "cell_type": "code",
   "execution_count": 40,
   "metadata": {},
   "outputs": [
    {
     "data": {
      "image/png": "[encoded data removed]",
      "text/plain": [
       "<Figure size 288x432 with 3 Axes>"
      ]
     },
     "metadata": {
      "needs_background": "light"
     },
     "output_type": "display_data"
    }
   ],
   "source": [
    "g = sns.FacetGrid(results, col='type', col_wrap=1, \n",
    "                  height=2, aspect=2)\n",
    "g.map(plt.hist, 'SALARY', range=[0, 200000], bins=40)\n",
    "g.set_axis_labels('employees_salary', 'Count')\n",
    "g.set_titles('{col_name}')\n",
    "\n",
    "plt.tight_layout()\n",
    "plt.show()"
   ]
  },
  {
   "cell_type": "code",
   "execution_count": 44,
   "metadata": {},
   "outputs": [
    {
     "name": "stdout",
     "output_type": "stream",
     "text": [
      "Bootstrap Statistics:\n",
      "original: 4600.0\n",
      "bias: 93.69999999999982\n",
      "std. error: 1120.5605588124176\n"
     ]
    }
   ],
   "source": [
    "#2. Bootstrap(https://github.com/gedeck/practical-statistics-for-data-scientists/blob/master/python/notebooks/Chapter%202%20-%20Data%20and%20sampling%20distributions.ipynb)\n",
    "\n",
    "results = []\n",
    "for nrepeat in range(1000):\n",
    "    sample = resample(employees_salary)\n",
    "    results.append(sample.median())\n",
    "results = pd.Series(results)\n",
    "print('Bootstrap Statistics:')\n",
    "print(f'original: {employees_salary.median()}')\n",
    "print(f'bias: {results.mean() - employees_salary.median()}')\n",
    "print(f'std. error: {results.std()}')"
   ]
  },
  {
   "cell_type": "code",
   "execution_count": 45,
   "metadata": {},
   "outputs": [
    {
     "name": "stdout",
     "output_type": "stream",
     "text": [
      "4.005467821429933\n"
     ]
    },
    {
     "data": {
      "image/png": "[encoded data removed]",
      "text/plain": [
       "<Figure size 432x288 with 1 Axes>"
      ]
     },
     "metadata": {
      "needs_background": "light"
     },
     "output_type": "display_data"
    },
    {
     "data": {
      "image/png": "[encoded data removed]",
      "text/plain": [
       "<Figure size 432x288 with 1 Axes>"
      ]
     },
     "metadata": {
      "needs_background": "light"
     },
     "output_type": "display_data"
    }
   ],
   "source": [
    "#3. Central Limit Theorem (https://youtu.be/Ecs_JPe9gCM)\n",
    "import numpy as np\n",
    "import random\n",
    "\n",
    "\n",
    "# Create a parent distribution, from the gamma family\n",
    "shape, scale = 2., 2.  # mean=4, std=2*sqrt(2)\n",
    "s = np.random.gamma(shape, scale, 100000)\n",
    "print(np.mean(s))\n",
    "import matplotlib.pyplot as plt\n",
    "import scipy.special as sps\n",
    "plt.hist(s)\n",
    "plt.show()\n",
    "\n",
    "\n",
    "# The distribution of the means from the sampled groups is normally distributed\n",
    "samples = [ np.mean(random.choices(s, k=20)) for _ in range(1000) ]\n",
    "plt.hist(samples)\n",
    "plt.show()"
   ]
  },
  {
   "cell_type": "code",
   "execution_count": 46,
   "metadata": {},
   "outputs": [
    {
     "data": {
      "text/plain": [
       "0.8"
      ]
     },
     "execution_count": 46,
     "metadata": {},
     "output_type": "execute_result"
    }
   ],
   "source": [
    "#4. The Law of Large Numbers\n",
    "#(https://towardsdatascience.com/sampling-distributions-with-python-implementation-3f4555e1d450)\n",
    "#The law of large numbers states that as a sample size increases, the sample mean will get closer to the population mean. \n",
    "#Let’s check this with our example.\n",
    "\n",
    "#Below is an array that represents the puppies we have in our sample, where 1 \n",
    "#represents the puppies with blue eyes, and 0 represents the puppies with hazel eyes.\n",
    "\n",
    "np.random.seed(42)\n",
    "\n",
    "puppies = np.array([1,0,1,1,1,1,0,0,0,0,1,1,1,1,1,1,1,1,1,1])\n",
    "\n",
    "\n",
    "#Let's generate one more sample of size 100.\n",
    "np.random.choice(puppies, 100, replace=True)\n",
    "\n",
    "\n",
    "\n",
    "hundred_sample_props= []\n",
    "for i in range(10000):\n",
    "    sample = np.random.choice(puppies, 100, replace=True)\n",
    "    hundred_sample_props.append(sample.mean())\n",
    "hundred_sample_props = np.array(hundred_sample_props)\n",
    "\n",
    "np.random.choice(puppies, 5, replace=True).mean()\n",
    "np.random.choice(puppies, 20, replace=True).mean()\n",
    "np.random.choice(puppies, 100, replace=True).mean()"
   ]
  },
  {
   "cell_type": "code",
   "execution_count": 47,
   "metadata": {},
   "outputs": [
    {
     "name": "stdout",
     "output_type": "stream",
     "text": [
      "   insert      mean quality       std\n",
      "0     0.0  0.009905    good  0.003662\n",
      "1     0.1  0.450190    good  0.281895\n",
      "2     0.3  0.376818    poor  0.306806\n",
      "3     0.5  0.801856    good  0.243288\n",
      "4     1.0  0.643859    poor  0.322378\n"
     ]
    }
   ],
   "source": [
    "#5. Plotting Estimates (Mean and Standard Deviation)\n",
    "#(https://www.geeksforgeeks.org/how-to-plot-mean-and-standard-deviation-in-pandas/)\n",
    "\n",
    "# Import the necessary libraries to read \n",
    "# dataset and work on that \n",
    "import pandas as pd \n",
    "import numpy as np \n",
    "import matplotlib.pyplot as plt \n",
    "  \n",
    "# Make the dataframe for evaluation on Errorbars \n",
    "df = pd.DataFrame({ \n",
    "    'insert': [0.0, 0.1, 0.3, 0.5, 1.0], \n",
    "    'mean': [0.009905, 0.45019, 0.376818, 0.801856, 0.643859], \n",
    "    'quality': ['good', 'good', 'poor', 'good', 'poor'],  \n",
    "    'std': [0.003662, 0.281895, 0.306806, 0.243288, 0.322378]}) \n",
    "  \n",
    "print(df)"
   ]
  },
  {
   "cell_type": "code",
   "execution_count": 48,
   "metadata": {},
   "outputs": [
    {
     "data": {
      "image/png": "[encoded data removed]",
      "text/plain": [
       "<Figure size 432x288 with 1 Axes>"
      ]
     },
     "metadata": {
      "needs_background": "light"
     },
     "output_type": "display_data"
    }
   ],
   "source": [
    "# Subplots as having two types of quality \n",
    "fig, ax = plt.subplots() \n",
    "  \n",
    "for key, group in df.groupby('quality'): \n",
    "    group.plot('insert', 'mean', yerr='std',  \n",
    "               label=key, ax=ax) \n",
    "plt.show()"
   ]
  },
  {
   "cell_type": "code",
   "execution_count": 16,
   "metadata": {},
   "outputs": [
    {
     "data": {
      "text/plain": [
       "<matplotlib.axes._subplots.AxesSubplot at 0x1541127f9d0>"
      ]
     },
     "execution_count": 16,
     "metadata": {},
     "output_type": "execute_result"
    },
    {
     "data": {
      "image/png": "[encoded data removed]",
      "text/plain": [
       "<Figure size 432x288 with 1 Axes>"
      ]
     },
     "metadata": {
      "needs_background": "light"
     },
     "output_type": "display_data"
    }
   ],
   "source": [
    "# Groupby the quality column using aggreate \n",
    "# value of mean and std \n",
    "qual = df.groupby(\"quality\").agg([np.mean, np.std]) \n",
    "qual = qual['insert'] \n",
    "qual.plot(kind = \"barh\", y = \"mean\", legend = False, \n",
    "\t\txerr = \"std\", title = \"Quality\", color='green')"
   ]
  },
  {
   "cell_type": "code",
   "execution_count": 49,
   "metadata": {},
   "outputs": [
    {
     "name": "stdout",
     "output_type": "stream",
     "text": [
      "mean 50000    67314.05\n",
      "dtype: float64\n",
      "standard deviation 50000    30580.234462\n",
      "dtype: float64\n"
     ]
    }
   ],
   "source": [
    "'''Inferential Statistics\n",
    "\n",
    " Calculating Expected Parameters (Mean and\n",
    "Standard Deviation)\n",
    "'''\n",
    "\n",
    "data=pd.read_csv('D:\\Python\\loans_income.csv')\n",
    "\n",
    "\n",
    "# Compute the mean and standard deviation of the sample_distances\n",
    "sample_mean = np.mean(data)\n",
    "sample_stdev = np.std(data)\n",
    "print(\"mean\",sample_mean)\n",
    "print(\"standard deviation\",sample_stdev)\n",
    "\n",
    "# Use the sample mean and stdev as estimates of the population model parameters mu and sigma\n",
    "#population_model = gaussian_model(data, mu=sample_mean, sigma=sample_stdev)\n",
    "\n",
    "# Plot the model and data to see how they compare\n",
    "#fig = plot_data_and_model(data, population_model)"
   ]
  },
  {
   "cell_type": "raw",
   "metadata": {},
   "source": [
    "6 . Confidence Interval\n",
    "\n",
    "A confidence interval, in statistics, refers to the probability that a population parameter will fall between a set of values for a certain proportion of times. Confidence intervals measure the degree of uncertainty or certainty in a sampling method. \n",
    "\n",
    "KEY TAKEAWAYS\n",
    "A confidence interval displays the probability that a parameter will fall between a pair of values around the mean.\n",
    "Confidence intervals measure the degree of uncertainty or certainty in a sampling method.\n",
    "They are most often constructed using confidence levels of 95% or 99%."
   ]
  },
  {
   "cell_type": "code",
   "execution_count": null,
   "metadata": {},
   "outputs": [],
   "source": []
  }
 ],
 "metadata": {
  "kernelspec": {
   "display_name": "Python 3",
   "language": "python",
   "name": "python3"
  },
  "language_info": {
   "codemirror_mode": {
    "name": "ipython",
    "version": 3
   },
   "file_extension": ".py",
   "mimetype": "text/x-python",
   "name": "python",
   "nbconvert_exporter": "python",
   "pygments_lexer": "ipython3",
   "version": "3.8.3"
  }
 },
 "nbformat": 4,
 "nbformat_minor": 4
}
